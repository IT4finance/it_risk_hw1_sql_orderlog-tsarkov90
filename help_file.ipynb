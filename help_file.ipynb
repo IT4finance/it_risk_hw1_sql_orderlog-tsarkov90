{
 "cells": [
  {
   "cell_type": "code",
   "execution_count": 1,
   "outputs": [
    {
     "data": {
      "text/plain": "((15123693, 10),\n NO              int64\n SECCODE        object\n BUYSELL        object\n TIME            int64\n ORDERNO         int64\n ACTION          int64\n PRICE         float64\n VOLUME          int64\n TRADENO       float64\n TRADEPRICE    float64\n dtype: object)"
     },
     "execution_count": 1,
     "metadata": {},
     "output_type": "execute_result"
    }
   ],
   "source": [
    "import pandas as pd\n",
    "\n",
    "df = pd.read_csv('OrderLog/OrderLog20151123.csv', delimiter=',')\n",
    "(df.shape, df.dtypes)"
   ],
   "metadata": {
    "collapsed": false,
    "pycharm": {
     "name": "#%%\n"
    }
   }
  },
  {
   "cell_type": "code",
   "execution_count": 2,
   "outputs": [
    {
     "name": "stdout",
     "output_type": "stream",
     "text": [
      "NO\t 15123693\n",
      "SECCODE\t 12\n",
      "BUYSELL\t 1\n",
      "TIME\t 184459548\n",
      "ORDERNO\t 7351931\n",
      "ACTION\t 2\n",
      "PRICE\t 181600.0\n",
      "VOLUME\t 3808000000\n",
      "TRADENO\t 2541678103.0\n",
      "TRADEPRICE\t 174500.0\n"
     ]
    }
   ],
   "source": [
    "print('NO\\t', df.NO.max())\n",
    "print('SECCODE\\t', df.SECCODE.map(len).max())\n",
    "print('BUYSELL\\t', df.BUYSELL.map(len).max())\n",
    "print('TIME\\t', df.TIME.max())\n",
    "print('ORDERNO\\t', df.ORDERNO.max())\n",
    "print('ACTION\\t', df.ACTION.max())\n",
    "print('PRICE\\t', df.PRICE.max())\n",
    "print('VOLUME\\t', df.VOLUME.max())\n",
    "print('TRADENO\\t', df.TRADENO.max())\n",
    "print('TRADEPRICE\\t', df.TRADEPRICE.max())"
   ],
   "metadata": {
    "collapsed": false,
    "pycharm": {
     "name": "#%%\n"
    }
   }
  },
  {
   "cell_type": "code",
   "execution_count": 7,
   "outputs": [
    {
     "name": "stdout",
     "output_type": "stream",
     "text": [
      "6 6\n"
     ]
    }
   ],
   "source": [
    "# PRICE     TRADENO     TRADEPRICE\n",
    "\n",
    "max_before = 0\n",
    "max_after = 0\n",
    "\n",
    "for num in df.TRADEPRICE.map(str).to_list():\n",
    "    if '.' in num:\n",
    "        before, after = num.split('.')\n",
    "\n",
    "        if len(before) > max_before:\n",
    "            max_before = len(before)\n",
    "\n",
    "        if len(after) > max_after:\n",
    "            max_after = len(after)\n",
    "    else:\n",
    "        if len(num) > max_before:\n",
    "            max_before = len(num)\n",
    "\n",
    "print(max_before, max_after)"
   ],
   "metadata": {
    "collapsed": false,
    "pycharm": {
     "name": "#%%\n"
    }
   }
  },
  {
   "cell_type": "code",
   "execution_count": null,
   "outputs": [],
   "source": [],
   "metadata": {
    "collapsed": false,
    "pycharm": {
     "name": "#%%\n"
    }
   }
  }
 ],
 "metadata": {
  "kernelspec": {
   "display_name": "Python 3",
   "language": "python",
   "name": "python3"
  },
  "language_info": {
   "codemirror_mode": {
    "name": "ipython",
    "version": 2
   },
   "file_extension": ".py",
   "mimetype": "text/x-python",
   "name": "python",
   "nbconvert_exporter": "python",
   "pygments_lexer": "ipython2",
   "version": "2.7.6"
  }
 },
 "nbformat": 4,
 "nbformat_minor": 0
}